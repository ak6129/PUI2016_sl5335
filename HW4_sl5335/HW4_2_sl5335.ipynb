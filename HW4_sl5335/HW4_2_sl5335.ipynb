{
 "cells": [
  {
   "cell_type": "markdown",
   "metadata": {},
   "source": []
  },
  {
   "cell_type": "markdown",
   "metadata": {},
   "source": [
    "| Statistical Analyses | IV(s) | IV type(s) | DV(s)  | DV type(s) | Control Var | Control Var Type | Question to be answered | _H0_ | alpha | link to paper               \n",
    "|--------------|:------:|:----:|------------| :-----| :----| :-------| :------------|\n",
    "|ANOVA|1, type of image shown | categorical | 2, performance score and time need to complete task | continous | 0 | n/a | Does viewing cute images affect subsequent task performance? | Performance increase after viewing less cute picture >= performance increase after viewing cute images | 0.5 |http://journals.plos.org/plosone/article?id=10.1371/journal.pone.0046362\n",
    "|Logistic regression|4, degree, common community, different communities, source diversity| continous | 1, donate or not | dichotomous | 1, whether person previously donated | categorical | is donor contagion driven by cohesive or independent reinforcement | Likelihood of donation will be the same for people exposed to the 4 IV as not | 0.5 |http://journals.plos.org/plosone/article/asset?id=10.1371/journal.pone.0153539.PDF|"
   ]
  },
  {
   "cell_type": "code",
   "execution_count": null,
   "metadata": {
    "collapsed": true
   },
   "outputs": [],
   "source": []
  }
 ],
 "metadata": {
  "kernelspec": {
   "display_name": "PUI2016_Python2",
   "language": "python",
   "name": "pui2016_python2"
  },
  "language_info": {
   "codemirror_mode": {
    "name": "ipython",
    "version": 2
   },
   "file_extension": ".py",
   "mimetype": "text/x-python",
   "name": "python",
   "nbconvert_exporter": "python",
   "pygments_lexer": "ipython2",
   "version": "2.7.12"
  }
 },
 "nbformat": 4,
 "nbformat_minor": 0
}
