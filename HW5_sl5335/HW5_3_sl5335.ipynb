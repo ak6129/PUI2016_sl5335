{
 "cells": [
  {
   "cell_type": "markdown",
   "metadata": {},
   "source": [
    "# Formulate the Null hypothesis in words and in formulae for the 4 experiments below:\n",
    "\n",
    "# Do diets help lose more fat than the exercise?\n",
    "# Experimental setup: you have a test and a control sample."
   ]
  },
  {
   "cell_type": "markdown",
   "metadata": {},
   "source": [
    "Null hypothesis: People who exercise have a similar or greater decline in fat percentage than people who diet. \n",
    "\n",
    "$H_0: Control:FatLossPercent.mean() - Test:FatLossPercent.mean() \\geq 0$"
   ]
  },
  {
   "cell_type": "markdown",
   "metadata": {},
   "source": [
    "# Do American trust the president?\n",
    "# POLL RESULTS: On May 16, 1994, Newsweek reported the results of a public opinion poll that asked: “From everything you know about Bill Clinton, does he have the honesty and integrity you expect in a president?” (p. 23). Poll surveyed 518 adults and 233, or 0.45 of them answered yes.\n"
   ]
  },
  {
   "cell_type": "markdown",
   "metadata": {},
   "source": [
    "Null hypothesis: The probablity of Americans not trusting the president is greater or equal to the probability of supporting the president.\n",
    "\n",
    "$H_0: P(NoSupport) - P(Support) \\geq 0$"
   ]
  },
  {
   "cell_type": "markdown",
   "metadata": {},
   "source": [
    "# Effectiveness of nicotine patches to quit smoking.\n",
    "# Experimental setup: measure cessation rates for smokers randomly assigned to use a nicotine patch versus a placebo patch.\n",
    "\n"
   ]
  },
  {
   "cell_type": "markdown",
   "metadata": {},
   "source": [
    "Null hypothesis: Smokers who use a placebo have an equal or greater possibility of quitting smoking as those who use the nicotine patch.\n",
    "\n",
    "$H_0: P(Placebo Quit) - P(Nicotine Patch Quit) \\geq 0$"
   ]
  },
  {
   "cell_type": "markdown",
   "metadata": {},
   "source": [
    "# Quantify the danger of smoking for pregnant women.\n",
    "# Experimemtal setup: measure IQ of children at ages 1, 2, 3, and 4 years of age."
   ]
  },
  {
   "cell_type": "markdown",
   "metadata": {},
   "source": [
    "Null hypothesis: IQS of children ages 1, 2, 3 & 4 with mothers who smoked during pregnancy is greater or equal to the IQs of children whose mothers did not smoke\n",
    "\n",
    "$H_0: SmokerKidIQ.mean() - NonsmokerKidIQ.mean() \\geq 0$"
   ]
  },
  {
   "cell_type": "code",
   "execution_count": null,
   "metadata": {
    "collapsed": true
   },
   "outputs": [],
   "source": []
  }
 ],
 "metadata": {
  "kernelspec": {
   "display_name": "PUI2016_Python3",
   "language": "python",
   "name": "pui2016_python3"
  },
  "language_info": {
   "codemirror_mode": {
    "name": "ipython",
    "version": 3
   },
   "file_extension": ".py",
   "mimetype": "text/x-python",
   "name": "python",
   "nbconvert_exporter": "python",
   "pygments_lexer": "ipython3",
   "version": "3.5.2"
  }
 },
 "nbformat": 4,
 "nbformat_minor": 0
}
