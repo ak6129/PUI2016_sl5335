{
 "cells": [
  {
   "cell_type": "code",
   "execution_count": 59,
   "metadata": {
    "collapsed": false
   },
   "outputs": [
    {
     "name": "stdout",
     "output_type": "stream",
     "text": [
      "Populating the interactive namespace from numpy and matplotlib\n"
     ]
    },
    {
     "name": "stderr",
     "output_type": "stream",
     "text": [
      "/opt/rh/anaconda/root/envs/PUI2016_Python3/lib/python3.5/site-packages/IPython/core/magics/pylab.py:161: UserWarning: pylab import has clobbered these variables: ['mean']\n",
      "`%matplotlib` prevents importing * from pylab and numpy\n",
      "  \"\\n`%matplotlib` prevents importing * from pylab and numpy\"\n"
     ]
    }
   ],
   "source": [
    "from __future__ import print_function, division\n",
    "import numpy as np\n",
    "import pandas as pd\n",
    "import statsmodels.api\n",
    "import scipy.stats\n",
    "import pylab as pl\n",
    "import os \n",
    "import sys\n",
    "from getCitiBikeCSV import getCitiBikeCSV\n",
    "%pylab inline"
   ]
  },
  {
   "cell_type": "code",
   "execution_count": 41,
   "metadata": {
    "collapsed": false
   },
   "outputs": [
    {
     "name": "stdout",
     "output_type": "stream",
     "text": [
      "Downloading 201603\n",
      "file in place, you can continue\n"
     ]
    }
   ],
   "source": [
    "datestring = '201603'\n",
    "getCitiBikeCSV(datestring)"
   ]
  },
  {
   "cell_type": "code",
   "execution_count": 42,
   "metadata": {
    "collapsed": false
   },
   "outputs": [
    {
     "data": {
      "text/html": [
       "<div>\n",
       "<table border=\"1\" class=\"dataframe\">\n",
       "  <thead>\n",
       "    <tr style=\"text-align: right;\">\n",
       "      <th></th>\n",
       "      <th>tripduration</th>\n",
       "      <th>starttime</th>\n",
       "      <th>stoptime</th>\n",
       "      <th>start station id</th>\n",
       "      <th>start station name</th>\n",
       "      <th>start station latitude</th>\n",
       "      <th>start station longitude</th>\n",
       "      <th>end station id</th>\n",
       "      <th>end station name</th>\n",
       "      <th>end station latitude</th>\n",
       "      <th>end station longitude</th>\n",
       "      <th>bikeid</th>\n",
       "      <th>usertype</th>\n",
       "      <th>birth year</th>\n",
       "      <th>gender</th>\n",
       "    </tr>\n",
       "  </thead>\n",
       "  <tbody>\n",
       "    <tr>\n",
       "      <th>0</th>\n",
       "      <td>1491</td>\n",
       "      <td>3/1/2016 06:52:42</td>\n",
       "      <td>3/1/2016 07:17:33</td>\n",
       "      <td>72</td>\n",
       "      <td>W 52 St &amp; 11 Ave</td>\n",
       "      <td>40.767272</td>\n",
       "      <td>-73.993929</td>\n",
       "      <td>427</td>\n",
       "      <td>Bus Slip &amp; State St</td>\n",
       "      <td>40.701907</td>\n",
       "      <td>-74.013942</td>\n",
       "      <td>23914</td>\n",
       "      <td>Subscriber</td>\n",
       "      <td>1982.0</td>\n",
       "      <td>1</td>\n",
       "    </tr>\n",
       "    <tr>\n",
       "      <th>1</th>\n",
       "      <td>1044</td>\n",
       "      <td>3/1/2016 07:05:50</td>\n",
       "      <td>3/1/2016 07:23:15</td>\n",
       "      <td>72</td>\n",
       "      <td>W 52 St &amp; 11 Ave</td>\n",
       "      <td>40.767272</td>\n",
       "      <td>-73.993929</td>\n",
       "      <td>254</td>\n",
       "      <td>W 11 St &amp; 6 Ave</td>\n",
       "      <td>40.735324</td>\n",
       "      <td>-73.998004</td>\n",
       "      <td>23697</td>\n",
       "      <td>Subscriber</td>\n",
       "      <td>1978.0</td>\n",
       "      <td>1</td>\n",
       "    </tr>\n",
       "    <tr>\n",
       "      <th>2</th>\n",
       "      <td>714</td>\n",
       "      <td>3/1/2016 07:15:05</td>\n",
       "      <td>3/1/2016 07:26:59</td>\n",
       "      <td>72</td>\n",
       "      <td>W 52 St &amp; 11 Ave</td>\n",
       "      <td>40.767272</td>\n",
       "      <td>-73.993929</td>\n",
       "      <td>493</td>\n",
       "      <td>W 45 St &amp; 6 Ave</td>\n",
       "      <td>40.756800</td>\n",
       "      <td>-73.982912</td>\n",
       "      <td>21447</td>\n",
       "      <td>Subscriber</td>\n",
       "      <td>1960.0</td>\n",
       "      <td>2</td>\n",
       "    </tr>\n",
       "    <tr>\n",
       "      <th>3</th>\n",
       "      <td>329</td>\n",
       "      <td>3/1/2016 07:26:04</td>\n",
       "      <td>3/1/2016 07:31:34</td>\n",
       "      <td>72</td>\n",
       "      <td>W 52 St &amp; 11 Ave</td>\n",
       "      <td>40.767272</td>\n",
       "      <td>-73.993929</td>\n",
       "      <td>478</td>\n",
       "      <td>11 Ave &amp; W 41 St</td>\n",
       "      <td>40.760301</td>\n",
       "      <td>-73.998842</td>\n",
       "      <td>22351</td>\n",
       "      <td>Subscriber</td>\n",
       "      <td>1986.0</td>\n",
       "      <td>1</td>\n",
       "    </tr>\n",
       "    <tr>\n",
       "      <th>4</th>\n",
       "      <td>1871</td>\n",
       "      <td>3/1/2016 07:31:30</td>\n",
       "      <td>3/1/2016 08:02:41</td>\n",
       "      <td>72</td>\n",
       "      <td>W 52 St &amp; 11 Ave</td>\n",
       "      <td>40.767272</td>\n",
       "      <td>-73.993929</td>\n",
       "      <td>151</td>\n",
       "      <td>Cleveland Pl &amp; Spring St</td>\n",
       "      <td>40.722104</td>\n",
       "      <td>-73.997249</td>\n",
       "      <td>20985</td>\n",
       "      <td>Subscriber</td>\n",
       "      <td>1978.0</td>\n",
       "      <td>1</td>\n",
       "    </tr>\n",
       "  </tbody>\n",
       "</table>\n",
       "</div>"
      ],
      "text/plain": [
       "   tripduration          starttime           stoptime  start station id  \\\n",
       "0          1491  3/1/2016 06:52:42  3/1/2016 07:17:33                72   \n",
       "1          1044  3/1/2016 07:05:50  3/1/2016 07:23:15                72   \n",
       "2           714  3/1/2016 07:15:05  3/1/2016 07:26:59                72   \n",
       "3           329  3/1/2016 07:26:04  3/1/2016 07:31:34                72   \n",
       "4          1871  3/1/2016 07:31:30  3/1/2016 08:02:41                72   \n",
       "\n",
       "  start station name  start station latitude  start station longitude  \\\n",
       "0   W 52 St & 11 Ave               40.767272               -73.993929   \n",
       "1   W 52 St & 11 Ave               40.767272               -73.993929   \n",
       "2   W 52 St & 11 Ave               40.767272               -73.993929   \n",
       "3   W 52 St & 11 Ave               40.767272               -73.993929   \n",
       "4   W 52 St & 11 Ave               40.767272               -73.993929   \n",
       "\n",
       "   end station id          end station name  end station latitude  \\\n",
       "0             427       Bus Slip & State St             40.701907   \n",
       "1             254           W 11 St & 6 Ave             40.735324   \n",
       "2             493           W 45 St & 6 Ave             40.756800   \n",
       "3             478          11 Ave & W 41 St             40.760301   \n",
       "4             151  Cleveland Pl & Spring St             40.722104   \n",
       "\n",
       "   end station longitude  bikeid    usertype  birth year  gender  \n",
       "0             -74.013942   23914  Subscriber      1982.0       1  \n",
       "1             -73.998004   23697  Subscriber      1978.0       1  \n",
       "2             -73.982912   21447  Subscriber      1960.0       2  \n",
       "3             -73.998842   22351  Subscriber      1986.0       1  \n",
       "4             -73.997249   20985  Subscriber      1978.0       1  "
      ]
     },
     "execution_count": 42,
     "metadata": {},
     "output_type": "execute_result"
    }
   ],
   "source": [
    "bike_df = pd.read_csv(os.getenv(\"PUIDATA\") + \"/\" + datestring + '-citibike-tripdata.csv')\n",
    "bike_df.head()"
   ]
  },
  {
   "cell_type": "code",
   "execution_count": 43,
   "metadata": {
    "collapsed": true
   },
   "outputs": [],
   "source": [
    "bike_df['age'] = 2016 - bike_df['birth year']"
   ]
  },
  {
   "cell_type": "code",
   "execution_count": 44,
   "metadata": {
    "collapsed": false
   },
   "outputs": [
    {
     "data": {
      "text/plain": [
       "Index(['tripduration', 'starttime', 'stoptime', 'start station id',\n",
       "       'start station name', 'start station latitude',\n",
       "       'start station longitude', 'end station id', 'end station name',\n",
       "       'end station latitude', 'end station longitude', 'bikeid', 'usertype',\n",
       "       'birth year', 'gender', 'age'],\n",
       "      dtype='object')"
      ]
     },
     "execution_count": 44,
     "metadata": {},
     "output_type": "execute_result"
    }
   ],
   "source": [
    "bike_df.columns"
   ]
  },
  {
   "cell_type": "code",
   "execution_count": 45,
   "metadata": {
    "collapsed": false
   },
   "outputs": [],
   "source": [
    "bike_df.dropna(inplace = True)\n",
    "bike_df.drop(['tripduration', 'starttime', 'stoptime', 'start station id',\n",
    "       'start station name', 'start station latitude',\n",
    "       'start station longitude', 'end station id', 'end station name',\n",
    "       'end station latitude', 'end station longitude', 'bikeid', 'usertype',\n",
    "       'birth year'], axis = 1, inplace = True)\n",
    "bike_df_2 = bike_df[bike_df.age < 100] # removes any people over the age of 100 as these are likely false"
   ]
  },
  {
   "cell_type": "code",
   "execution_count": 52,
   "metadata": {
    "collapsed": false
   },
   "outputs": [
    {
     "data": {
      "text/html": [
       "<div>\n",
       "<table border=\"1\" class=\"dataframe\">\n",
       "  <thead>\n",
       "    <tr style=\"text-align: right;\">\n",
       "      <th></th>\n",
       "      <th>gender</th>\n",
       "      <th>age</th>\n",
       "    </tr>\n",
       "  </thead>\n",
       "  <tbody>\n",
       "    <tr>\n",
       "      <th>count</th>\n",
       "      <td>826381.000000</td>\n",
       "      <td>826381.000000</td>\n",
       "    </tr>\n",
       "    <tr>\n",
       "      <th>mean</th>\n",
       "      <td>1.228374</td>\n",
       "      <td>39.195735</td>\n",
       "    </tr>\n",
       "    <tr>\n",
       "      <th>std</th>\n",
       "      <td>0.425016</td>\n",
       "      <td>11.688330</td>\n",
       "    </tr>\n",
       "    <tr>\n",
       "      <th>min</th>\n",
       "      <td>0.000000</td>\n",
       "      <td>16.000000</td>\n",
       "    </tr>\n",
       "    <tr>\n",
       "      <th>25%</th>\n",
       "      <td>1.000000</td>\n",
       "      <td>30.000000</td>\n",
       "    </tr>\n",
       "    <tr>\n",
       "      <th>50%</th>\n",
       "      <td>1.000000</td>\n",
       "      <td>37.000000</td>\n",
       "    </tr>\n",
       "    <tr>\n",
       "      <th>75%</th>\n",
       "      <td>1.000000</td>\n",
       "      <td>47.000000</td>\n",
       "    </tr>\n",
       "    <tr>\n",
       "      <th>max</th>\n",
       "      <td>2.000000</td>\n",
       "      <td>99.000000</td>\n",
       "    </tr>\n",
       "  </tbody>\n",
       "</table>\n",
       "</div>"
      ],
      "text/plain": [
       "              gender            age\n",
       "count  826381.000000  826381.000000\n",
       "mean        1.228374      39.195735\n",
       "std         0.425016      11.688330\n",
       "min         0.000000      16.000000\n",
       "25%         1.000000      30.000000\n",
       "50%         1.000000      37.000000\n",
       "75%         1.000000      47.000000\n",
       "max         2.000000      99.000000"
      ]
     },
     "execution_count": 52,
     "metadata": {},
     "output_type": "execute_result"
    }
   ],
   "source": [
    "bike_df_2.describe()"
   ]
  },
  {
   "cell_type": "code",
   "execution_count": 53,
   "metadata": {
    "collapsed": true
   },
   "outputs": [],
   "source": [
    "grouped_bike_df = bike_df_2.groupby('age').count()"
   ]
  },
  {
   "cell_type": "code",
   "execution_count": 55,
   "metadata": {
    "collapsed": false
   },
   "outputs": [],
   "source": [
    "grouped_bike_df.columns = ['number_people'] # renames counted column"
   ]
  },
  {
   "cell_type": "code",
   "execution_count": 56,
   "metadata": {
    "collapsed": false
   },
   "outputs": [
    {
     "data": {
      "text/html": [
       "<div>\n",
       "<table border=\"1\" class=\"dataframe\">\n",
       "  <thead>\n",
       "    <tr style=\"text-align: right;\">\n",
       "      <th></th>\n",
       "      <th>number_people</th>\n",
       "    </tr>\n",
       "    <tr>\n",
       "      <th>age</th>\n",
       "      <th></th>\n",
       "    </tr>\n",
       "  </thead>\n",
       "  <tbody>\n",
       "    <tr>\n",
       "      <th>16.0</th>\n",
       "      <td>47</td>\n",
       "    </tr>\n",
       "    <tr>\n",
       "      <th>17.0</th>\n",
       "      <td>850</td>\n",
       "    </tr>\n",
       "    <tr>\n",
       "      <th>18.0</th>\n",
       "      <td>1930</td>\n",
       "    </tr>\n",
       "    <tr>\n",
       "      <th>19.0</th>\n",
       "      <td>2088</td>\n",
       "    </tr>\n",
       "    <tr>\n",
       "      <th>20.0</th>\n",
       "      <td>4367</td>\n",
       "    </tr>\n",
       "  </tbody>\n",
       "</table>\n",
       "</div>"
      ],
      "text/plain": [
       "      number_people\n",
       "age                \n",
       "16.0             47\n",
       "17.0            850\n",
       "18.0           1930\n",
       "19.0           2088\n",
       "20.0           4367"
      ]
     },
     "execution_count": 56,
     "metadata": {},
     "output_type": "execute_result"
    }
   ],
   "source": [
    "grouped_bike_df.head()"
   ]
  },
  {
   "cell_type": "code",
   "execution_count": 57,
   "metadata": {
    "collapsed": false
   },
   "outputs": [
    {
     "data": {
      "text/plain": [
       "826381"
      ]
     },
     "execution_count": 57,
     "metadata": {},
     "output_type": "execute_result"
    },
    {
     "data": {
      "image/png": "[encoded data removed]",
      "text/plain": [
       "<matplotlib.figure.Figure at 0x7f13d2e017f0>"
      ]
     },
     "metadata": {},
     "output_type": "display_data"
    }
   ],
   "source": [
    "percent_age = np.array(grouped_bike_df.index) * np.array(grouped_bike_df.number_people) / grouped_bike_df.number_people.sum()\n",
    "mean_age = percent_age.sum()\n",
    "pl.plot(grouped_bike_df, 'o')\n",
    "pl.title('Ages of CitiBike Riders')\n",
    "pl.xlabel('Ages')\n",
    "pl.ylabel('Number of People')\n",
    "pl.vlines(x = mean_age, ymin= 0, ymax= 35000, label = \"Mean Age: {0:.2f}\".format(mean_age))\n",
    "pl.legend()\n",
    "grouped_bike_df.number_people.sum()"
   ]
  },
  {
   "cell_type": "markdown",
   "metadata": {},
   "source": [
    "# Figure 1: Counts of Citibike riders plotted by age, with line designating the mean. The plot suggests that ages are skewed left."
   ]
  },
  {
   "cell_type": "markdown",
   "metadata": {},
   "source": [
    "Null Hypothesis: The ages of riders of Citibikes are normally distributed. \n",
    "$\\alpha = 0.05$"
   ]
  },
  {
   "cell_type": "code",
   "execution_count": 61,
   "metadata": {
    "collapsed": false
   },
   "outputs": [
    {
     "data": {
      "text/plain": [
       "KstestResult(statistic=0.16958745447783635, pvalue=0.023523435648696189)"
      ]
     },
     "execution_count": 61,
     "metadata": {},
     "output_type": "execute_result"
    }
   ],
   "source": [
    "mean = grouped_bike_df.number_people.mean()\n",
    "std_dev = grouped_bike_df.number_people.std()\n",
    "scipy.stats.kstest(grouped_bike_df.number_people, 'norm', args = (mean, std_dev))"
   ]
  },
  {
   "cell_type": "code",
   "execution_count": 62,
   "metadata": {
    "collapsed": false
   },
   "outputs": [
    {
     "data": {
      "text/plain": [
       "AndersonResult(statistic=3.2186986949598975, critical_values=array([ 0.549,  0.625,  0.75 ,  0.875,  1.041]), significance_level=array([ 15. ,  10. ,   5. ,   2.5,   1. ]))"
      ]
     },
     "execution_count": 62,
     "metadata": {},
     "output_type": "execute_result"
    }
   ],
   "source": [
    "scipy.stats.anderson(grouped_bike_df.number_people, 'norm')"
   ]
  },
  {
   "cell_type": "markdown",
   "metadata": {},
   "source": [
    "We can reject the null hypothesis that ages of Citibike riders are normally distributed using both the KS test (as the P-value of 0.02 is less than alpha = 0.05) and the Anderson test (as the statistic of 3.21 is greater than the critical values for significance levels as low as .01. "
   ]
  },
  {
   "cell_type": "markdown",
   "metadata": {},
   "source": [
    "Null Hypothesis: The ages of riders of Citibikes follow a logistic distribution. $\\alpha = 0.05$"
   ]
  },
  {
   "cell_type": "code",
   "execution_count": 64,
   "metadata": {
    "collapsed": false
   },
   "outputs": [
    {
     "data": {
      "text/plain": [
       "KstestResult(statistic=0.26520832028212782, pvalue=3.8055236970535589e-05)"
      ]
     },
     "execution_count": 64,
     "metadata": {},
     "output_type": "execute_result"
    }
   ],
   "source": [
    "scipy.stats.kstest(grouped_bike_df.number_people, 'logistic', args = (mean, std_dev))"
   ]
  },
  {
   "cell_type": "code",
   "execution_count": 66,
   "metadata": {
    "collapsed": false
   },
   "outputs": [
    {
     "data": {
      "text/plain": [
       "AndersonResult(statistic=3.0120218248530648, critical_values=array([ 0.425,  0.561,  0.658,  0.766,  0.903,  1.007]), significance_level=array([ 25. ,  10. ,   5. ,   2.5,   1. ,   0.5]))"
      ]
     },
     "execution_count": 66,
     "metadata": {},
     "output_type": "execute_result"
    }
   ],
   "source": [
    "scipy.stats.anderson(grouped_bike_df.number_people, 'logistic')"
   ]
  },
  {
   "cell_type": "markdown",
   "metadata": {},
   "source": [
    "We can reject the null hypothesis that ages of Citibike riders follow a logistic distribution using both the KS test (as the P-value of approximately 0.0 is less than alpha = 0.05) and the Anderson test (as the statistic of 3.01 is greater than the critical values for significance levels as low as .005. "
   ]
  },
  {
   "cell_type": "code",
   "execution_count": null,
   "metadata": {
    "collapsed": true
   },
   "outputs": [],
   "source": []
  }
 ],
 "metadata": {
  "kernelspec": {
   "display_name": "PUI2016_Python3",
   "language": "python",
   "name": "pui2016_python3"
  },
  "language_info": {
   "codemirror_mode": {
    "name": "ipython",
    "version": 3
   },
   "file_extension": ".py",
   "mimetype": "text/x-python",
   "name": "python",
   "nbconvert_exporter": "python",
   "pygments_lexer": "ipython3",
   "version": "3.5.2"
  }
 },
 "nbformat": 4,
 "nbformat_minor": 0
}
