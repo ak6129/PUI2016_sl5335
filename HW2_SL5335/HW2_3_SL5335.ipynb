{
 "cells": [
  {
   "cell_type": "markdown",
   "metadata": {},
   "source": [
    "## Assignment 3"
   ]
  },
  {
   "cell_type": "code",
   "execution_count": 1,
   "metadata": {
    "collapsed": false
   },
   "outputs": [
    {
     "name": "stdout",
     "output_type": "stream",
     "text": [
      "Populating the interactive namespace from numpy and matplotlib\n"
     ]
    }
   ],
   "source": [
    "from __future__ import print_function\n",
    "import os\n",
    "import sys\n",
    "import csv\n",
    "import pandas as pd\n",
    "import numpy as np\n",
    "import pylab as pl\n",
    "import datetime\n",
    "\n",
    "% pylab inline"
   ]
  },
  {
   "cell_type": "code",
   "execution_count": 2,
   "metadata": {
    "collapsed": false,
    "scrolled": false
   },
   "outputs": [
    {
     "name": "stdout",
     "output_type": "stream",
     "text": [
      "/gws/open/NYCOpenData/nycopendata/data\n"
     ]
    }
   ],
   "source": [
    "DFData = os.getenv('DFDATA')\n",
    "PUI2016 = os.getenv('PUI2016')\n",
    "\n",
    "print (DFData)"
   ]
  },
  {
   "cell_type": "code",
   "execution_count": null,
   "metadata": {
    "collapsed": false,
    "scrolled": true
   },
   "outputs": [],
   "source": []
  },
  {
   "cell_type": "code",
   "execution_count": 3,
   "metadata": {
    "collapsed": false
   },
   "outputs": [
    {
     "data": {
      "text/html": [
       "<div>\n",
       "<table border=\"1\" class=\"dataframe\">\n",
       "  <thead>\n",
       "    <tr style=\"text-align: right;\">\n",
       "      <th></th>\n",
       "      <th>Date of Census</th>\n",
       "      <th>Total Adults in Shelter</th>\n",
       "      <th>Total Children in Shelter</th>\n",
       "      <th>Total Individuals in Shelter</th>\n",
       "      <th>Single Adult Men in Shelter</th>\n",
       "      <th>Single Adult Women in Shelter</th>\n",
       "      <th>Total Single Adults in Shelter</th>\n",
       "      <th>Families with Children in Shelter</th>\n",
       "      <th>Adults in Families with Children in Shelter</th>\n",
       "      <th>Children in Families with Children in Shelter</th>\n",
       "      <th>Total Individuals in Families with Children in Shelter</th>\n",
       "      <th>Adult Families in Shelter</th>\n",
       "      <th>Individuals in Adult Families in Shelter</th>\n",
       "      <th>Families Requesting Temporary Housing at PATH</th>\n",
       "      <th>Adult Families Requesting Temporary Housing at AFIC</th>\n",
       "    </tr>\n",
       "  </thead>\n",
       "  <tbody>\n",
       "    <tr>\n",
       "      <th>0</th>\n",
       "      <td>01/04/2016</td>\n",
       "      <td>34611.0</td>\n",
       "      <td>23318.0</td>\n",
       "      <td>57929.0</td>\n",
       "      <td>9380.0</td>\n",
       "      <td>3588.0</td>\n",
       "      <td>12968.0</td>\n",
       "      <td>12118.0</td>\n",
       "      <td>17020.0</td>\n",
       "      <td>23318.0</td>\n",
       "      <td>40338.0</td>\n",
       "      <td>2200.0</td>\n",
       "      <td>4623.0</td>\n",
       "      <td>126.0</td>\n",
       "      <td>19.0</td>\n",
       "    </tr>\n",
       "    <tr>\n",
       "      <th>1</th>\n",
       "      <td>01/03/2016</td>\n",
       "      <td>34463.0</td>\n",
       "      <td>23325.0</td>\n",
       "      <td>57788.0</td>\n",
       "      <td>9265.0</td>\n",
       "      <td>3539.0</td>\n",
       "      <td>12804.0</td>\n",
       "      <td>12128.0</td>\n",
       "      <td>17036.0</td>\n",
       "      <td>23325.0</td>\n",
       "      <td>40361.0</td>\n",
       "      <td>2200.0</td>\n",
       "      <td>4623.0</td>\n",
       "      <td>95.0</td>\n",
       "      <td>12.0</td>\n",
       "    </tr>\n",
       "    <tr>\n",
       "      <th>2</th>\n",
       "      <td>01/02/2016</td>\n",
       "      <td>34317.0</td>\n",
       "      <td>23361.0</td>\n",
       "      <td>57678.0</td>\n",
       "      <td>9150.0</td>\n",
       "      <td>3492.0</td>\n",
       "      <td>12642.0</td>\n",
       "      <td>12144.0</td>\n",
       "      <td>17053.0</td>\n",
       "      <td>23361.0</td>\n",
       "      <td>40414.0</td>\n",
       "      <td>2200.0</td>\n",
       "      <td>4622.0</td>\n",
       "      <td>83.0</td>\n",
       "      <td>17.0</td>\n",
       "    </tr>\n",
       "    <tr>\n",
       "      <th>3</th>\n",
       "      <td>01/01/2016</td>\n",
       "      <td>34267.0</td>\n",
       "      <td>23362.0</td>\n",
       "      <td>57629.0</td>\n",
       "      <td>9116.0</td>\n",
       "      <td>3476.0</td>\n",
       "      <td>12592.0</td>\n",
       "      <td>12146.0</td>\n",
       "      <td>17057.0</td>\n",
       "      <td>23362.0</td>\n",
       "      <td>40419.0</td>\n",
       "      <td>2199.0</td>\n",
       "      <td>4618.0</td>\n",
       "      <td>42.0</td>\n",
       "      <td>6.0</td>\n",
       "    </tr>\n",
       "    <tr>\n",
       "      <th>4</th>\n",
       "      <td>12/31/2015</td>\n",
       "      <td>33960.0</td>\n",
       "      <td>23378.0</td>\n",
       "      <td>57338.0</td>\n",
       "      <td>8845.0</td>\n",
       "      <td>3440.0</td>\n",
       "      <td>12285.0</td>\n",
       "      <td>12152.0</td>\n",
       "      <td>17061.0</td>\n",
       "      <td>23378.0</td>\n",
       "      <td>40439.0</td>\n",
       "      <td>2197.0</td>\n",
       "      <td>4614.0</td>\n",
       "      <td>84.0</td>\n",
       "      <td>13.0</td>\n",
       "    </tr>\n",
       "  </tbody>\n",
       "</table>\n",
       "</div>"
      ],
      "text/plain": [
       "  Date of Census  Total Adults in Shelter  Total Children in Shelter  \\\n",
       "0     01/04/2016                  34611.0                    23318.0   \n",
       "1     01/03/2016                  34463.0                    23325.0   \n",
       "2     01/02/2016                  34317.0                    23361.0   \n",
       "3     01/01/2016                  34267.0                    23362.0   \n",
       "4     12/31/2015                  33960.0                    23378.0   \n",
       "\n",
       "   Total Individuals in Shelter  Single Adult Men in Shelter  \\\n",
       "0                       57929.0                       9380.0   \n",
       "1                       57788.0                       9265.0   \n",
       "2                       57678.0                       9150.0   \n",
       "3                       57629.0                       9116.0   \n",
       "4                       57338.0                       8845.0   \n",
       "\n",
       "   Single Adult Women in Shelter  Total Single Adults in Shelter  \\\n",
       "0                         3588.0                         12968.0   \n",
       "1                         3539.0                         12804.0   \n",
       "2                         3492.0                         12642.0   \n",
       "3                         3476.0                         12592.0   \n",
       "4                         3440.0                         12285.0   \n",
       "\n",
       "   Families with Children in Shelter  \\\n",
       "0                            12118.0   \n",
       "1                            12128.0   \n",
       "2                            12144.0   \n",
       "3                            12146.0   \n",
       "4                            12152.0   \n",
       "\n",
       "   Adults in Families with Children in Shelter  \\\n",
       "0                                      17020.0   \n",
       "1                                      17036.0   \n",
       "2                                      17053.0   \n",
       "3                                      17057.0   \n",
       "4                                      17061.0   \n",
       "\n",
       "   Children in Families with Children in Shelter  \\\n",
       "0                                        23318.0   \n",
       "1                                        23325.0   \n",
       "2                                        23361.0   \n",
       "3                                        23362.0   \n",
       "4                                        23378.0   \n",
       "\n",
       "   Total Individuals in Families with Children in Shelter   \\\n",
       "0                                            40338.0         \n",
       "1                                            40361.0         \n",
       "2                                            40414.0         \n",
       "3                                            40419.0         \n",
       "4                                            40439.0         \n",
       "\n",
       "   Adult Families in Shelter  Individuals in Adult Families in Shelter  \\\n",
       "0                     2200.0                                    4623.0   \n",
       "1                     2200.0                                    4623.0   \n",
       "2                     2200.0                                    4622.0   \n",
       "3                     2199.0                                    4618.0   \n",
       "4                     2197.0                                    4614.0   \n",
       "\n",
       "   Families Requesting Temporary Housing at PATH  \\\n",
       "0                                          126.0   \n",
       "1                                           95.0   \n",
       "2                                           83.0   \n",
       "3                                           42.0   \n",
       "4                                           84.0   \n",
       "\n",
       "   Adult Families Requesting Temporary Housing at AFIC  \n",
       "0                                               19.0    \n",
       "1                                               12.0    \n",
       "2                                               17.0    \n",
       "3                                                6.0    \n",
       "4                                               13.0    "
      ]
     },
     "execution_count": 3,
     "metadata": {},
     "output_type": "execute_result"
    }
   ],
   "source": [
    "shelter=pd.read_csv(DFData +'/k46n-sa2m/1452017075/k46n-sa2m', encoding='utf-8')\n",
    "shelter.dropna(how=\"all\", inplace = True)\n",
    "shelter.head()\n",
    "#reads in data from csv and drops anything where all values are n/a"
   ]
  },
  {
   "cell_type": "code",
   "execution_count": null,
   "metadata": {
    "collapsed": false
   },
   "outputs": [],
   "source": []
  },
  {
   "cell_type": "code",
   "execution_count": 4,
   "metadata": {
    "collapsed": false
   },
   "outputs": [
    {
     "data": {
      "text/plain": [
       "['Date of Census',\n",
       " 'Total Individuals in Shelter',\n",
       " 'Single Adult Men in Shelter',\n",
       " 'Single Adult Women in Shelter',\n",
       " 'Total Single Adults in Shelter',\n",
       " 'Families with Children in Shelter',\n",
       " 'Adults in Families with Children in Shelter',\n",
       " 'Children in Families with Children in Shelter',\n",
       " 'Total Individuals in Families with Children in Shelter ',\n",
       " 'Adult Families in Shelter',\n",
       " 'Individuals in Adult Families in Shelter',\n",
       " 'Families Requesting Temporary Housing at PATH',\n",
       " 'Adult Families Requesting Temporary Housing at AFIC']"
      ]
     },
     "execution_count": 4,
     "metadata": {},
     "output_type": "execute_result"
    }
   ],
   "source": [
    "columns_to_drop = list(shelter.columns.values)\n",
    "columns_to_drop.remove('Total Adults in Shelter')\n",
    "columns_to_drop.remove('Total Children in Shelter')\n",
    "columns_to_drop"
   ]
  },
  {
   "cell_type": "code",
   "execution_count": 5,
   "metadata": {
    "collapsed": false
   },
   "outputs": [],
   "source": [
    "shelter.drop(columns_to_drop, axis = 1, inplace = True)"
   ]
  },
  {
   "cell_type": "code",
   "execution_count": 6,
   "metadata": {
    "collapsed": false
   },
   "outputs": [
    {
     "data": {
      "text/html": [
       "<div>\n",
       "<table border=\"1\" class=\"dataframe\">\n",
       "  <thead>\n",
       "    <tr style=\"text-align: right;\">\n",
       "      <th></th>\n",
       "      <th>Total Adults in Shelter</th>\n",
       "      <th>Total Children in Shelter</th>\n",
       "    </tr>\n",
       "  </thead>\n",
       "  <tbody>\n",
       "    <tr>\n",
       "      <th>0</th>\n",
       "      <td>34611.0</td>\n",
       "      <td>23318.0</td>\n",
       "    </tr>\n",
       "    <tr>\n",
       "      <th>1</th>\n",
       "      <td>34463.0</td>\n",
       "      <td>23325.0</td>\n",
       "    </tr>\n",
       "    <tr>\n",
       "      <th>2</th>\n",
       "      <td>34317.0</td>\n",
       "      <td>23361.0</td>\n",
       "    </tr>\n",
       "    <tr>\n",
       "      <th>3</th>\n",
       "      <td>34267.0</td>\n",
       "      <td>23362.0</td>\n",
       "    </tr>\n",
       "    <tr>\n",
       "      <th>4</th>\n",
       "      <td>33960.0</td>\n",
       "      <td>23378.0</td>\n",
       "    </tr>\n",
       "  </tbody>\n",
       "</table>\n",
       "</div>"
      ],
      "text/plain": [
       "   Total Adults in Shelter  Total Children in Shelter\n",
       "0                  34611.0                    23318.0\n",
       "1                  34463.0                    23325.0\n",
       "2                  34317.0                    23361.0\n",
       "3                  34267.0                    23362.0\n",
       "4                  33960.0                    23378.0"
      ]
     },
     "execution_count": 6,
     "metadata": {},
     "output_type": "execute_result"
    }
   ],
   "source": [
    "shelter.head()"
   ]
  },
  {
   "cell_type": "code",
   "execution_count": 7,
   "metadata": {
    "collapsed": false
   },
   "outputs": [
    {
     "data": {
      "text/plain": [
       "<matplotlib.axes._subplots.AxesSubplot at 0x7fe6d25f7a90>"
      ]
     },
     "execution_count": 7,
     "metadata": {},
     "output_type": "execute_result"
    },
    {
     "data": {
      "image/png": "[encoded data removed]",
      "text/plain": [
       "<matplotlib.figure.Figure at 0x7fe6d253a400>"
      ]
     },
     "metadata": {},
     "output_type": "display_data"
    }
   ],
   "source": [
    "shelter.plot(kind='scatter', x='Total Adults in Shelter', y='Total Children in Shelter')"
   ]
  },
  {
   "cell_type": "markdown",
   "metadata": {},
   "source": [
    "## Figure 1 \n",
    "Plot of Total Children in Shelter v. Total Adults in Shelter"
   ]
  },
  {
   "cell_type": "markdown",
   "metadata": {},
   "source": [
    "## Extra Credit (Using Data From Assignment 3)"
   ]
  },
  {
   "cell_type": "code",
   "execution_count": 8,
   "metadata": {
    "collapsed": false
   },
   "outputs": [
    {
     "data": {
      "text/html": [
       "<div>\n",
       "<table border=\"1\" class=\"dataframe\">\n",
       "  <thead>\n",
       "    <tr style=\"text-align: right;\">\n",
       "      <th></th>\n",
       "      <th>Date of Census</th>\n",
       "      <th>Total Adults in Shelter</th>\n",
       "      <th>Total Children in Shelter</th>\n",
       "      <th>Total Individuals in Shelter</th>\n",
       "      <th>Single Adult Men in Shelter</th>\n",
       "      <th>Single Adult Women in Shelter</th>\n",
       "      <th>Total Single Adults in Shelter</th>\n",
       "      <th>Families with Children in Shelter</th>\n",
       "      <th>Adults in Families with Children in Shelter</th>\n",
       "      <th>Children in Families with Children in Shelter</th>\n",
       "      <th>Total Individuals in Families with Children in Shelter</th>\n",
       "      <th>Adult Families in Shelter</th>\n",
       "      <th>Individuals in Adult Families in Shelter</th>\n",
       "      <th>Families Requesting Temporary Housing at PATH</th>\n",
       "      <th>Adult Families Requesting Temporary Housing at AFIC</th>\n",
       "    </tr>\n",
       "  </thead>\n",
       "  <tbody>\n",
       "    <tr>\n",
       "      <th>0</th>\n",
       "      <td>2016-01-04</td>\n",
       "      <td>34611.0</td>\n",
       "      <td>23318.0</td>\n",
       "      <td>57929.0</td>\n",
       "      <td>9380.0</td>\n",
       "      <td>3588.0</td>\n",
       "      <td>12968.0</td>\n",
       "      <td>12118.0</td>\n",
       "      <td>17020.0</td>\n",
       "      <td>23318.0</td>\n",
       "      <td>40338.0</td>\n",
       "      <td>2200.0</td>\n",
       "      <td>4623.0</td>\n",
       "      <td>126.0</td>\n",
       "      <td>19.0</td>\n",
       "    </tr>\n",
       "    <tr>\n",
       "      <th>1</th>\n",
       "      <td>2016-01-03</td>\n",
       "      <td>34463.0</td>\n",
       "      <td>23325.0</td>\n",
       "      <td>57788.0</td>\n",
       "      <td>9265.0</td>\n",
       "      <td>3539.0</td>\n",
       "      <td>12804.0</td>\n",
       "      <td>12128.0</td>\n",
       "      <td>17036.0</td>\n",
       "      <td>23325.0</td>\n",
       "      <td>40361.0</td>\n",
       "      <td>2200.0</td>\n",
       "      <td>4623.0</td>\n",
       "      <td>95.0</td>\n",
       "      <td>12.0</td>\n",
       "    </tr>\n",
       "    <tr>\n",
       "      <th>2</th>\n",
       "      <td>2016-01-02</td>\n",
       "      <td>34317.0</td>\n",
       "      <td>23361.0</td>\n",
       "      <td>57678.0</td>\n",
       "      <td>9150.0</td>\n",
       "      <td>3492.0</td>\n",
       "      <td>12642.0</td>\n",
       "      <td>12144.0</td>\n",
       "      <td>17053.0</td>\n",
       "      <td>23361.0</td>\n",
       "      <td>40414.0</td>\n",
       "      <td>2200.0</td>\n",
       "      <td>4622.0</td>\n",
       "      <td>83.0</td>\n",
       "      <td>17.0</td>\n",
       "    </tr>\n",
       "    <tr>\n",
       "      <th>3</th>\n",
       "      <td>2016-01-01</td>\n",
       "      <td>34267.0</td>\n",
       "      <td>23362.0</td>\n",
       "      <td>57629.0</td>\n",
       "      <td>9116.0</td>\n",
       "      <td>3476.0</td>\n",
       "      <td>12592.0</td>\n",
       "      <td>12146.0</td>\n",
       "      <td>17057.0</td>\n",
       "      <td>23362.0</td>\n",
       "      <td>40419.0</td>\n",
       "      <td>2199.0</td>\n",
       "      <td>4618.0</td>\n",
       "      <td>42.0</td>\n",
       "      <td>6.0</td>\n",
       "    </tr>\n",
       "    <tr>\n",
       "      <th>4</th>\n",
       "      <td>2015-12-31</td>\n",
       "      <td>33960.0</td>\n",
       "      <td>23378.0</td>\n",
       "      <td>57338.0</td>\n",
       "      <td>8845.0</td>\n",
       "      <td>3440.0</td>\n",
       "      <td>12285.0</td>\n",
       "      <td>12152.0</td>\n",
       "      <td>17061.0</td>\n",
       "      <td>23378.0</td>\n",
       "      <td>40439.0</td>\n",
       "      <td>2197.0</td>\n",
       "      <td>4614.0</td>\n",
       "      <td>84.0</td>\n",
       "      <td>13.0</td>\n",
       "    </tr>\n",
       "  </tbody>\n",
       "</table>\n",
       "</div>"
      ],
      "text/plain": [
       "  Date of Census  Total Adults in Shelter  Total Children in Shelter  \\\n",
       "0     2016-01-04                  34611.0                    23318.0   \n",
       "1     2016-01-03                  34463.0                    23325.0   \n",
       "2     2016-01-02                  34317.0                    23361.0   \n",
       "3     2016-01-01                  34267.0                    23362.0   \n",
       "4     2015-12-31                  33960.0                    23378.0   \n",
       "\n",
       "   Total Individuals in Shelter  Single Adult Men in Shelter  \\\n",
       "0                       57929.0                       9380.0   \n",
       "1                       57788.0                       9265.0   \n",
       "2                       57678.0                       9150.0   \n",
       "3                       57629.0                       9116.0   \n",
       "4                       57338.0                       8845.0   \n",
       "\n",
       "   Single Adult Women in Shelter  Total Single Adults in Shelter  \\\n",
       "0                         3588.0                         12968.0   \n",
       "1                         3539.0                         12804.0   \n",
       "2                         3492.0                         12642.0   \n",
       "3                         3476.0                         12592.0   \n",
       "4                         3440.0                         12285.0   \n",
       "\n",
       "   Families with Children in Shelter  \\\n",
       "0                            12118.0   \n",
       "1                            12128.0   \n",
       "2                            12144.0   \n",
       "3                            12146.0   \n",
       "4                            12152.0   \n",
       "\n",
       "   Adults in Families with Children in Shelter  \\\n",
       "0                                      17020.0   \n",
       "1                                      17036.0   \n",
       "2                                      17053.0   \n",
       "3                                      17057.0   \n",
       "4                                      17061.0   \n",
       "\n",
       "   Children in Families with Children in Shelter  \\\n",
       "0                                        23318.0   \n",
       "1                                        23325.0   \n",
       "2                                        23361.0   \n",
       "3                                        23362.0   \n",
       "4                                        23378.0   \n",
       "\n",
       "   Total Individuals in Families with Children in Shelter   \\\n",
       "0                                            40338.0         \n",
       "1                                            40361.0         \n",
       "2                                            40414.0         \n",
       "3                                            40419.0         \n",
       "4                                            40439.0         \n",
       "\n",
       "   Adult Families in Shelter  Individuals in Adult Families in Shelter  \\\n",
       "0                     2200.0                                    4623.0   \n",
       "1                     2200.0                                    4623.0   \n",
       "2                     2200.0                                    4622.0   \n",
       "3                     2199.0                                    4618.0   \n",
       "4                     2197.0                                    4614.0   \n",
       "\n",
       "   Families Requesting Temporary Housing at PATH  \\\n",
       "0                                          126.0   \n",
       "1                                           95.0   \n",
       "2                                           83.0   \n",
       "3                                           42.0   \n",
       "4                                           84.0   \n",
       "\n",
       "   Adult Families Requesting Temporary Housing at AFIC  \n",
       "0                                               19.0    \n",
       "1                                               12.0    \n",
       "2                                               17.0    \n",
       "3                                                6.0    \n",
       "4                                               13.0    "
      ]
     },
     "execution_count": 8,
     "metadata": {},
     "output_type": "execute_result"
    }
   ],
   "source": [
    "shelter_EC=pd.read_csv(DFData +'/k46n-sa2m/1452017075/k46n-sa2m', encoding='utf-8', parse_dates = ['Date of Census'])\n",
    "shelter_EC.dropna(how=\"all\", inplace=True)\n",
    "shelter_EC.head()"
   ]
  },
  {
   "cell_type": "code",
   "execution_count": null,
   "metadata": {
    "collapsed": false
   },
   "outputs": [],
   "source": []
  },
  {
   "cell_type": "code",
   "execution_count": 9,
   "metadata": {
    "collapsed": false
   },
   "outputs": [
    {
     "data": {
      "text/plain": [
       "['Total Adults in Shelter',\n",
       " 'Total Children in Shelter',\n",
       " 'Single Adult Men in Shelter',\n",
       " 'Single Adult Women in Shelter',\n",
       " 'Total Single Adults in Shelter',\n",
       " 'Families with Children in Shelter',\n",
       " 'Adults in Families with Children in Shelter',\n",
       " 'Children in Families with Children in Shelter',\n",
       " 'Total Individuals in Families with Children in Shelter ',\n",
       " 'Adult Families in Shelter',\n",
       " 'Individuals in Adult Families in Shelter',\n",
       " 'Families Requesting Temporary Housing at PATH',\n",
       " 'Adult Families Requesting Temporary Housing at AFIC']"
      ]
     },
     "execution_count": 9,
     "metadata": {},
     "output_type": "execute_result"
    }
   ],
   "source": [
    "columns_to_drop_EC = list(shelter_EC.columns.values)\n",
    "columns_to_drop_EC.remove('Total Individuals in Shelter')\n",
    "columns_to_drop_EC.remove('Date of Census')\n",
    "columns_to_drop_EC"
   ]
  },
  {
   "cell_type": "code",
   "execution_count": 10,
   "metadata": {
    "collapsed": false
   },
   "outputs": [],
   "source": [
    "shelter_EC.drop(columns_to_drop_EC, axis = 1, inplace = True)"
   ]
  },
  {
   "cell_type": "code",
   "execution_count": 11,
   "metadata": {
    "collapsed": false
   },
   "outputs": [
    {
     "data": {
      "text/html": [
       "<div>\n",
       "<table border=\"1\" class=\"dataframe\">\n",
       "  <thead>\n",
       "    <tr style=\"text-align: right;\">\n",
       "      <th></th>\n",
       "      <th>Date of Census</th>\n",
       "      <th>Total Individuals in Shelter</th>\n",
       "    </tr>\n",
       "  </thead>\n",
       "  <tbody>\n",
       "    <tr>\n",
       "      <th>0</th>\n",
       "      <td>2016-01-04</td>\n",
       "      <td>57929.0</td>\n",
       "    </tr>\n",
       "    <tr>\n",
       "      <th>1</th>\n",
       "      <td>2016-01-03</td>\n",
       "      <td>57788.0</td>\n",
       "    </tr>\n",
       "    <tr>\n",
       "      <th>2</th>\n",
       "      <td>2016-01-02</td>\n",
       "      <td>57678.0</td>\n",
       "    </tr>\n",
       "    <tr>\n",
       "      <th>3</th>\n",
       "      <td>2016-01-01</td>\n",
       "      <td>57629.0</td>\n",
       "    </tr>\n",
       "    <tr>\n",
       "      <th>4</th>\n",
       "      <td>2015-12-31</td>\n",
       "      <td>57338.0</td>\n",
       "    </tr>\n",
       "  </tbody>\n",
       "</table>\n",
       "</div>"
      ],
      "text/plain": [
       "  Date of Census  Total Individuals in Shelter\n",
       "0     2016-01-04                       57929.0\n",
       "1     2016-01-03                       57788.0\n",
       "2     2016-01-02                       57678.0\n",
       "3     2016-01-01                       57629.0\n",
       "4     2015-12-31                       57338.0"
      ]
     },
     "execution_count": 11,
     "metadata": {},
     "output_type": "execute_result"
    }
   ],
   "source": [
    "shelter_EC.head()"
   ]
  },
  {
   "cell_type": "code",
   "execution_count": 30,
   "metadata": {
    "collapsed": false
   },
   "outputs": [
    {
     "data": {
      "text/plain": [
       "<matplotlib.axes._subplots.AxesSubplot at 0x7fe6cd735b38>"
      ]
     },
     "execution_count": 30,
     "metadata": {},
     "output_type": "execute_result"
    },
    {
     "data": {
      "image/png": "[encoded data removed]",
      "text/plain": [
       "<matplotlib.figure.Figure at 0x7fe6cd7ca6d8>"
      ]
     },
     "metadata": {},
     "output_type": "display_data"
    }
   ],
   "source": [
    "shelter_EC.plot(x='Date of Census', y = 'Total Individuals in Shelter')"
   ]
  },
  {
   "cell_type": "markdown",
   "metadata": {},
   "source": [
    "## Figure 2\n",
    "\n",
    "Plot of Individuals in Shelter v. Date of Census. There are a few strange spikes and plummets which may be indicative of issues with the data set"
   ]
  },
  {
   "cell_type": "code",
   "execution_count": 29,
   "metadata": {
    "collapsed": true
   },
   "outputs": [],
   "source": [
    "pd.DataFrame.plot?"
   ]
  },
  {
   "cell_type": "code",
   "execution_count": null,
   "metadata": {
    "collapsed": true
   },
   "outputs": [],
   "source": []
  }
 ],
 "metadata": {
  "kernelspec": {
   "display_name": "PUI2016_Python3",
   "language": "python",
   "name": "pui2016_python3"
  },
  "language_info": {
   "codemirror_mode": {
    "name": "ipython",
    "version": 3
   },
   "file_extension": ".py",
   "mimetype": "text/x-python",
   "name": "python",
   "nbconvert_exporter": "python",
   "pygments_lexer": "ipython3",
   "version": "3.5.2"
  }
 },
 "nbformat": 4,
 "nbformat_minor": 0
}
